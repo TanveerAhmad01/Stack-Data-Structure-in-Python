{
 "cells": [
  {
   "cell_type": "code",
   "execution_count": 83,
   "metadata": {},
   "outputs": [
    {
     "name": "stdout",
     "output_type": "stream",
     "text": [
      "[10, 345, 2341, 1325, 234]\n",
      "After remove 234: now updated stack is [10, 345, 2341, 1325]\n",
      "Peek Value is:  1325\n",
      "Top value:  3\n",
      "stack is empty:  1325\n"
     ]
    }
   ],
   "source": [
    "class Stack:\n",
    "    def __init__(self):\n",
    "        self.top = -1\n",
    "        self.stack = []\n",
    "\n",
    "\n",
    "    def pushItem(self):\n",
    "        limit = int(input(\"enter limit of data\")) #set limit of items\n",
    "        for i in range(limit): \n",
    "            inp = int(input(\"enter nubr\"))\n",
    "            self.top +=1     #increament of top\n",
    "            newList = [0] * (self.top +1)    #create new stack With extra space by +1\n",
    "            for j in range(self.top):\n",
    "                newList[j] = self.stack[j]   #copy data from self.stack into newList \n",
    "            newList[self.top] = inp\n",
    "            self.stack = newList  \n",
    "        print(self.stack)\n",
    "\n",
    "    def pop(self):\n",
    "        if self.top == -1:\n",
    "            print(\"Stack is empty\")\n",
    "        else:\n",
    "            emptystack = [0] * self.top # create empty stack\n",
    "            removeitem = self.stack[self.top]\n",
    "            for i in range(self.top):\n",
    "                emptystack[i] = self.stack[i]   # copy stack data into emptystack\n",
    "            self.top -= 1     #down top of emptystack\n",
    "            self.stack=emptystack    #now copy data into orignal stack\n",
    "            print(f\"After remove {removeitem}: now updated stack is {self.stack}\")\n",
    "\n",
    "    def peek(self):\n",
    "        if self.top == -1:\n",
    "            print(\"Stack is empty\")\n",
    "        else:\n",
    "            print(\"Peek Value is: \",self.stack[self.top]) #print Last top value\n",
    "\n",
    "    def topValue(self):\n",
    "        print(\"Top value: \",self.top)  \n",
    "\n",
    "    \n",
    "obj = Stack()\n",
    "obj.pushItem()\n",
    "obj.pop()\n",
    "obj.peek()\n",
    "obj.topValue()"
   ]
  }
 ],
 "metadata": {
  "kernelspec": {
   "display_name": "Python 3",
   "language": "python",
   "name": "python3"
  },
  "language_info": {
   "codemirror_mode": {
    "name": "ipython",
    "version": 3
   },
   "file_extension": ".py",
   "mimetype": "text/x-python",
   "name": "python",
   "nbconvert_exporter": "python",
   "pygments_lexer": "ipython3",
   "version": "3.12.3"
  }
 },
 "nbformat": 4,
 "nbformat_minor": 2
}
